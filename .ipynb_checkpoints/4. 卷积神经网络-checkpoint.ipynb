{
 "cells": [
  {
   "cell_type": "markdown",
   "id": "b173dc6d",
   "metadata": {},
   "source": [
    "# 卷积神经网络\n",
    "* 工作方式：特征提取+分类器（全连接）\n",
    "    * 直接全连接会丧失原有的空间信息\n",
    "    * 经过卷积层，通道数，宽，高都会变\n",
    "    * 下采样：通道数不变，宽高减小，减少元素数量\n",
    "    * 最终通过全连接，将三阶向量展开成一维向量\n",
    "* 一般的图像是RGB形式，即三通道。\n",
    "    * 三通道分别和各自的卷积核做卷积\n",
    "    * 将算出来的三个卷积输出做加法，现在通道数变成1个\n",
    "    * 多算几个卷积核，就可以得到多个输出通道"
   ]
  },
  {
   "cell_type": "code",
   "execution_count": 4,
   "id": "a8e63309",
   "metadata": {},
   "outputs": [
    {
     "name": "stdout",
     "output_type": "stream",
     "text": [
      "torch.Size([1, 5, 100, 100])\n",
      "torch.Size([1, 10, 98, 98])\n",
      "torch.Size([10, 5, 3, 3])\n"
     ]
    }
   ],
   "source": [
    "import torch\n",
    "in_channels,out_channels = 5,10\n",
    "width, height = 100,100\n",
    "kernel_size = 3 #卷积核大小3*3,也可以设为(5,3)\n",
    "batch_size = 1\n",
    "\n",
    "inputs = torch.randn(batch_size,\n",
    "                    in_channels,\n",
    "                    width,\n",
    "                    height)\n",
    "conv_layer = torch.nn.Conv2d(in_channels,\n",
    "                            out_channels,\n",
    "                            kernel_size=kernel_size)\n",
    "\n",
    "output = conv_layer(inputs)\n",
    "\n",
    "print(inputs.shape)\n",
    "print(output.shape)\n",
    "print(conv_layer.weight.shape) #卷积层的参数：输入通道、输出通道、卷积核的大小"
   ]
  },
  {
   "cell_type": "markdown",
   "id": "510814e9",
   "metadata": {},
   "source": [
    "卷积层常见的参数\n",
    "* padding：希望图像大小不变，在图像外面填几圈（3*3填1圈，最常见填0 3//2=1）\n",
    "* stride: 步长，卷积时，重心走几步"
   ]
  },
  {
   "cell_type": "code",
   "execution_count": 8,
   "id": "e7ed052f",
   "metadata": {},
   "outputs": [
    {
     "name": "stdout",
     "output_type": "stream",
     "text": [
      "tensor([[[[ 91., 224., 127.],\n",
      "          [192., 282., 122.],\n",
      "          [ 96., 110.,  31.]]]], grad_fn=<ConvolutionBackward0>)\n"
     ]
    }
   ],
   "source": [
    "import torch\n",
    "\n",
    "\n",
    "inputs = [3,4,6,5,7,\n",
    "         2,4,6,8,2,\n",
    "         1,6,7,8,4,\n",
    "          9,7,4,6,2,\n",
    "         3,7,5,4,1]\n",
    "inputs = torch.Tensor(inputs).view(1,1,5,5)\n",
    "\n",
    "conv_layer = torch.nn.Conv2d(1,1,\n",
    "                            kernel_size=3,\n",
    "                            bias=False,stride=2)\n",
    "\n",
    "kernel = torch.Tensor([1,2,3,4,5,6,7,8,9]).view(1,1,3,3)\n",
    "conv_layer.weight.data = kernel.data\n",
    "\n",
    "output = conv_layer(inputs)\n",
    "\n",
    "print(output)"
   ]
  },
  {
   "cell_type": "code",
   "execution_count": null,
   "id": "416f4e0e",
   "metadata": {},
   "outputs": [],
   "source": []
  }
 ],
 "metadata": {
  "kernelspec": {
   "display_name": "Python 3",
   "language": "python",
   "name": "python3"
  },
  "language_info": {
   "codemirror_mode": {
    "name": "ipython",
    "version": 3
   },
   "file_extension": ".py",
   "mimetype": "text/x-python",
   "name": "python",
   "nbconvert_exporter": "python",
   "pygments_lexer": "ipython3",
   "version": "3.8.8"
  }
 },
 "nbformat": 4,
 "nbformat_minor": 5
}
